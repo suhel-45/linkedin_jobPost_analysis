{
 "cells": [
  {
   "cell_type": "code",
   "execution_count": null,
   "metadata": {
    "application/vnd.databricks.v1+cell": {
     "cellMetadata": {
      "byteLimit": 2048000,
      "rowLimit": 10000
     },
     "inputWidgets": {},
     "nuid": "787808fc-f4ec-4239-ba2d-3dc8b6367a2e",
     "showTitle": false,
     "title": ""
    }
   },
   "outputs": [],
   "source": [
    "import requests\n",
    "import pandas as pd\n",
    "from pyspark.sql import SparkSession as ss\n",
    "from pyspark.sql.functions import col,year, month, day, dayofweek, regexp_replace,lit,when,udf,current_date,expr,date_sub,to_timestamp,to_date,date_format\n",
    "from pyspark.sql.types import TimestampType,IntegerType"
   ]
  },
  {
   "cell_type": "code",
   "execution_count": null,
   "metadata": {
    "application/vnd.databricks.v1+cell": {
     "cellMetadata": {
      "byteLimit": 2048000,
      "rowLimit": 10000
     },
     "inputWidgets": {},
     "nuid": "220f3b82-7f04-4bcd-bdd7-cb3b3c7cd5bf",
     "showTitle": false,
     "title": ""
    }
   },
   "outputs": [],
   "source": [
    "spark= ss.builder.appName(\"linkedin_post_analysis\").getOrCreate()\n",
    "user_name=dbutils.secrets.get(scope=\"db_scope\",key=\"usesr_name\")\n",
    "password=dbutils.secrets.get(scope=\"db_scope\",key=\"password\")\n",
    "options={\n",
    "    \"sfURL\":\"https://cd04219.central-india.azure.snowflakecomputing.com\",\n",
    "    \"sfUser\":user_name,\n",
    "    \"sfPassword\":password,\n",
    "    \"sfDatabase\":'JOBPOSTDB',\n",
    "    \"sfWarehouse\":'DATAVISTA',\n",
    "    \"sfRole\":'SYSADMIN',\n",
    "    \n",
    "}"
   ]
  },
  {
   "cell_type": "code",
   "execution_count": null,
   "metadata": {
    "application/vnd.databricks.v1+cell": {
     "cellMetadata": {
      "byteLimit": 2048000,
      "rowLimit": 10000
     },
     "inputWidgets": {},
     "nuid": "1b9ebb97-9cbb-4929-96a3-574fe18a768c",
     "showTitle": false,
     "title": ""
    }
   },
   "outputs": [],
   "source": [
    "\n",
    "url = \"https://rapid-linkedin-jobs-api.p.rapidapi.com/search-jobs-v2\"\n",
    "\n",
    "querystring = {\"keywords\":\"Software Engineer\",\"locationId\":\"102713980\",\"datePosted\":\"pastMonth\",\"sort\":\"mostRelevant\"}\n",
    "\n",
    "headers = {\n",
    "\t\"x-rapidapi-key\": \"05dd045b2emshb227b9e8c5e9bbcp11f32ejsn1c2407ef9800\",\n",
    "\t\"x-rapidapi-host\": \"rapid-linkedin-jobs-api.p.rapidapi.com\"\n",
    "}\n",
    "try:\n",
    "\tresponse = requests.get(url, headers=headers, params=querystring)\n",
    "\tjson_file=response.json()\n",
    "except requests.exceptions.RequestExcepion as e:\n",
    "    print(f\"An error occurred during the API request: {e}\")\n",
    "    json_file = None\n",
    "\n",
    "if json_file:\n",
    "    try:\n",
    "        pdf = pd.json_normalize(json_file['data'])\n",
    "        df=spark.createDataFrame(pdf)\n",
    "        df=df.filter(col('id').isNotNull())\n",
    "    except Exception as e:\n",
    "        print(f\"An error occurred during the API request: {e}\")\n",
    "else:\n",
    "    print(\"No data available from the API.\")\n",
    "       \n",
    "    "
   ]
  },
  {
   "cell_type": "code",
   "execution_count": null,
   "metadata": {
    "application/vnd.databricks.v1+cell": {
     "cellMetadata": {
      "byteLimit": 2048000,
      "rowLimit": 10000
     },
     "inputWidgets": {},
     "nuid": "7a5cb9b9-fdf3-4cb7-8654-3a89a8f2d239",
     "showTitle": false,
     "title": ""
    }
   },
   "outputs": [
    {
     "data": {
      "text/plain": [
       "50"
      ]
     },
     "execution_count": 103,
     "metadata": {},
     "output_type": "execute_result"
    }
   ],
   "source": [
    "df.count()"
   ]
  },
  {
   "cell_type": "code",
   "execution_count": null,
   "metadata": {
    "application/vnd.databricks.v1+cell": {
     "cellMetadata": {
      "byteLimit": 2048000,
      "rowLimit": 10000
     },
     "inputWidgets": {},
     "nuid": "7fe5aaa8-8005-4039-ac25-f7e8e7640912",
     "showTitle": false,
     "title": ""
    }
   },
   "outputs": [
    {
     "data": {
      "text/html": [
       "<style scoped>\n",
       "  .table-result-container {\n",
       "    max-height: 300px;\n",
       "    overflow: auto;\n",
       "  }\n",
       "  table, th, td {\n",
       "    border: 1px solid black;\n",
       "    border-collapse: collapse;\n",
       "  }\n",
       "  th, td {\n",
       "    padding: 5px;\n",
       "  }\n",
       "  th {\n",
       "    text-align: left;\n",
       "  }\n",
       "</style><div class='table-result-container'><table class='table-result'><thead style='background-color: white'><tr><th>id</th><th>referenceId</th></tr></thead><tbody><tr><td>3990999045</td><td>+XyhVw1DBgffGIhFglsOAg==</td></tr><tr><td>3850652988</td><td>+XyhVw1DBgffGIhFglsOAg==</td></tr><tr><td>3784329235</td><td>+XyhVw1DBgffGIhFglsOAg==</td></tr><tr><td>3984088810</td><td>+XyhVw1DBgffGIhFglsOAg==</td></tr><tr><td>3982726787</td><td>+XyhVw1DBgffGIhFglsOAg==</td></tr><tr><td>3986539089</td><td>+XyhVw1DBgffGIhFglsOAg==</td></tr><tr><td>3994591494</td><td>+XyhVw1DBgffGIhFglsOAg==</td></tr><tr><td>568136544</td><td>+XyhVw1DBgffGIhFglsOAg==</td></tr><tr><td>3986516681</td><td>+XyhVw1DBgffGIhFglsOAg==</td></tr><tr><td>3984893318</td><td>+XyhVw1DBgffGIhFglsOAg==</td></tr><tr><td>3996284212</td><td>+XyhVw1DBgffGIhFglsOAg==</td></tr><tr><td>3996698257</td><td>+XyhVw1DBgffGIhFglsOAg==</td></tr><tr><td>3994966442</td><td>+XyhVw1DBgffGIhFglsOAg==</td></tr><tr><td>3993289649</td><td>+XyhVw1DBgffGIhFglsOAg==</td></tr><tr><td>3983522810</td><td>+XyhVw1DBgffGIhFglsOAg==</td></tr><tr><td>3983965465</td><td>+XyhVw1DBgffGIhFglsOAg==</td></tr><tr><td>3987757743</td><td>+XyhVw1DBgffGIhFglsOAg==</td></tr><tr><td>3995657983</td><td>+XyhVw1DBgffGIhFglsOAg==</td></tr><tr><td>3990388957</td><td>+XyhVw1DBgffGIhFglsOAg==</td></tr><tr><td>3966886299</td><td>+XyhVw1DBgffGIhFglsOAg==</td></tr><tr><td>3993922657</td><td>+XyhVw1DBgffGIhFglsOAg==</td></tr><tr><td>3992456486</td><td>+XyhVw1DBgffGIhFglsOAg==</td></tr><tr><td>3943114149</td><td>+XyhVw1DBgffGIhFglsOAg==</td></tr><tr><td>3984324368</td><td>+XyhVw1DBgffGIhFglsOAg==</td></tr><tr><td>3985535482</td><td>+XyhVw1DBgffGIhFglsOAg==</td></tr><tr><td>3999460152</td><td>+XyhVw1DBgffGIhFglsOAg==</td></tr><tr><td>3999463102</td><td>+XyhVw1DBgffGIhFglsOAg==</td></tr><tr><td>3993912322</td><td>+XyhVw1DBgffGIhFglsOAg==</td></tr><tr><td>3996276931</td><td>+XyhVw1DBgffGIhFglsOAg==</td></tr><tr><td>3999746576</td><td>+XyhVw1DBgffGIhFglsOAg==</td></tr><tr><td>3996274985</td><td>+XyhVw1DBgffGIhFglsOAg==</td></tr><tr><td>3999705334</td><td>+XyhVw1DBgffGIhFglsOAg==</td></tr><tr><td>3997245159</td><td>+XyhVw1DBgffGIhFglsOAg==</td></tr><tr><td>3985653916</td><td>+XyhVw1DBgffGIhFglsOAg==</td></tr><tr><td>3989145759</td><td>+XyhVw1DBgffGIhFglsOAg==</td></tr><tr><td>4001351263</td><td>+XyhVw1DBgffGIhFglsOAg==</td></tr><tr><td>3988563570</td><td>+XyhVw1DBgffGIhFglsOAg==</td></tr><tr><td>3970261772</td><td>+XyhVw1DBgffGIhFglsOAg==</td></tr><tr><td>3992400241</td><td>+XyhVw1DBgffGIhFglsOAg==</td></tr><tr><td>3994559342</td><td>+XyhVw1DBgffGIhFglsOAg==</td></tr><tr><td>3877273184</td><td>+XyhVw1DBgffGIhFglsOAg==</td></tr><tr><td>3952200608</td><td>+XyhVw1DBgffGIhFglsOAg==</td></tr><tr><td>3997348779</td><td>+XyhVw1DBgffGIhFglsOAg==</td></tr><tr><td>3977755949</td><td>+XyhVw1DBgffGIhFglsOAg==</td></tr><tr><td>3982170947</td><td>+XyhVw1DBgffGIhFglsOAg==</td></tr><tr><td>3986501248</td><td>+XyhVw1DBgffGIhFglsOAg==</td></tr><tr><td>3966455358</td><td>+XyhVw1DBgffGIhFglsOAg==</td></tr><tr><td>3980979022</td><td>+XyhVw1DBgffGIhFglsOAg==</td></tr><tr><td>3997758540</td><td>+XyhVw1DBgffGIhFglsOAg==</td></tr><tr><td>3968643098</td><td>+XyhVw1DBgffGIhFglsOAg==</td></tr></tbody></table></div>"
      ]
     },
     "metadata": {
      "application/vnd.databricks.v1+output": {
       "addedWidgets": {},
       "aggData": [],
       "aggError": "",
       "aggOverflow": false,
       "aggSchema": [],
       "aggSeriesLimitReached": false,
       "aggType": "",
       "arguments": {},
       "columnCustomDisplayInfos": {},
       "data": [
        [
         3990999045,
         "+XyhVw1DBgffGIhFglsOAg=="
        ],
        [
         3850652988,
         "+XyhVw1DBgffGIhFglsOAg=="
        ],
        [
         3784329235,
         "+XyhVw1DBgffGIhFglsOAg=="
        ],
        [
         3984088810,
         "+XyhVw1DBgffGIhFglsOAg=="
        ],
        [
         3982726787,
         "+XyhVw1DBgffGIhFglsOAg=="
        ],
        [
         3986539089,
         "+XyhVw1DBgffGIhFglsOAg=="
        ],
        [
         3994591494,
         "+XyhVw1DBgffGIhFglsOAg=="
        ],
        [
         568136544,
         "+XyhVw1DBgffGIhFglsOAg=="
        ],
        [
         3986516681,
         "+XyhVw1DBgffGIhFglsOAg=="
        ],
        [
         3984893318,
         "+XyhVw1DBgffGIhFglsOAg=="
        ],
        [
         3996284212,
         "+XyhVw1DBgffGIhFglsOAg=="
        ],
        [
         3996698257,
         "+XyhVw1DBgffGIhFglsOAg=="
        ],
        [
         3994966442,
         "+XyhVw1DBgffGIhFglsOAg=="
        ],
        [
         3993289649,
         "+XyhVw1DBgffGIhFglsOAg=="
        ],
        [
         3983522810,
         "+XyhVw1DBgffGIhFglsOAg=="
        ],
        [
         3983965465,
         "+XyhVw1DBgffGIhFglsOAg=="
        ],
        [
         3987757743,
         "+XyhVw1DBgffGIhFglsOAg=="
        ],
        [
         3995657983,
         "+XyhVw1DBgffGIhFglsOAg=="
        ],
        [
         3990388957,
         "+XyhVw1DBgffGIhFglsOAg=="
        ],
        [
         3966886299,
         "+XyhVw1DBgffGIhFglsOAg=="
        ],
        [
         3993922657,
         "+XyhVw1DBgffGIhFglsOAg=="
        ],
        [
         3992456486,
         "+XyhVw1DBgffGIhFglsOAg=="
        ],
        [
         3943114149,
         "+XyhVw1DBgffGIhFglsOAg=="
        ],
        [
         3984324368,
         "+XyhVw1DBgffGIhFglsOAg=="
        ],
        [
         3985535482,
         "+XyhVw1DBgffGIhFglsOAg=="
        ],
        [
         3999460152,
         "+XyhVw1DBgffGIhFglsOAg=="
        ],
        [
         3999463102,
         "+XyhVw1DBgffGIhFglsOAg=="
        ],
        [
         3993912322,
         "+XyhVw1DBgffGIhFglsOAg=="
        ],
        [
         3996276931,
         "+XyhVw1DBgffGIhFglsOAg=="
        ],
        [
         3999746576,
         "+XyhVw1DBgffGIhFglsOAg=="
        ],
        [
         3996274985,
         "+XyhVw1DBgffGIhFglsOAg=="
        ],
        [
         3999705334,
         "+XyhVw1DBgffGIhFglsOAg=="
        ],
        [
         3997245159,
         "+XyhVw1DBgffGIhFglsOAg=="
        ],
        [
         3985653916,
         "+XyhVw1DBgffGIhFglsOAg=="
        ],
        [
         3989145759,
         "+XyhVw1DBgffGIhFglsOAg=="
        ],
        [
         4001351263,
         "+XyhVw1DBgffGIhFglsOAg=="
        ],
        [
         3988563570,
         "+XyhVw1DBgffGIhFglsOAg=="
        ],
        [
         3970261772,
         "+XyhVw1DBgffGIhFglsOAg=="
        ],
        [
         3992400241,
         "+XyhVw1DBgffGIhFglsOAg=="
        ],
        [
         3994559342,
         "+XyhVw1DBgffGIhFglsOAg=="
        ],
        [
         3877273184,
         "+XyhVw1DBgffGIhFglsOAg=="
        ],
        [
         3952200608,
         "+XyhVw1DBgffGIhFglsOAg=="
        ],
        [
         3997348779,
         "+XyhVw1DBgffGIhFglsOAg=="
        ],
        [
         3977755949,
         "+XyhVw1DBgffGIhFglsOAg=="
        ],
        [
         3982170947,
         "+XyhVw1DBgffGIhFglsOAg=="
        ],
        [
         3986501248,
         "+XyhVw1DBgffGIhFglsOAg=="
        ],
        [
         3966455358,
         "+XyhVw1DBgffGIhFglsOAg=="
        ],
        [
         3980979022,
         "+XyhVw1DBgffGIhFglsOAg=="
        ],
        [
         3997758540,
         "+XyhVw1DBgffGIhFglsOAg=="
        ],
        [
         3968643098,
         "+XyhVw1DBgffGIhFglsOAg=="
        ]
       ],
       "datasetInfos": [],
       "dbfsResultPath": null,
       "isJsonSchema": true,
       "metadata": {},
       "overflow": false,
       "plotOptions": {
        "customPlotOptions": {},
        "displayType": "table",
        "pivotAggregation": null,
        "pivotColumns": null,
        "xColumns": null,
        "yColumns": null
       },
       "removedWidgets": [],
       "schema": [
        {
         "metadata": "{}",
         "name": "id",
         "type": "\"long\""
        },
        {
         "metadata": "{}",
         "name": "referenceId",
         "type": "\"string\""
        }
       ],
       "type": "table"
      }
     },
     "output_type": "display_data"
    }
   ],
   "source": [
    "df_job_postings = df.select(\n",
    "    col('id'),\n",
    "    col('referenceId'),\n",
    ")\n",
    "df_job_postings=df_job_postings.withColumn('id',col('id').cast('long'))\n",
    "display(df_job_postings)"
   ]
  },
  {
   "cell_type": "code",
   "execution_count": null,
   "metadata": {
    "application/vnd.databricks.v1+cell": {
     "cellMetadata": {
      "byteLimit": 2048000,
      "rowLimit": 10000
     },
     "inputWidgets": {},
     "nuid": "4a425af1-c7b5-41b2-a626-dfbb514e9da6",
     "showTitle": false,
     "title": ""
    }
   },
   "outputs": [
    {
     "name": "stdout",
     "output_type": "stream",
     "text": [
      "+----------+------------+--------------------+--------------------+\n",
      "|        id|  company_id|        company_name|         company_url|\n",
      "+----------+------------+--------------------+--------------------+\n",
      "|3990999045| 1.1149985E7| Formula Recruitment|https://www.linke...|\n",
      "|3850652988|  1.400332E7|          asambeauty|https://www.linke...|\n",
      "|3784329235|1.00873698E8|    D5 Software GmbH|https://www.linke...|\n",
      "|3984088810| 4.7672239E7|    Rakuten Symphony|https://www.linke...|\n",
      "|3982726787|   2667237.0|            YunoJuno|https://www.linke...|\n",
      "|3986539089|   9233427.0|              THRYVE|https://www.linke...|\n",
      "|3994591494| 7.8457641E7|DFSC Projekt- & E...|https://www.linke...|\n",
      "| 568136544| 1.1499752E7|           WAPP GmbH|https://www.linke...|\n",
      "|3986516681| 8.6691134E7|   Intega Consulting|https://www.linke...|\n",
      "|3984893318|      1088.0|  NXP Semiconductors|https://www.linke...|\n",
      "|3996284212| 9.8400737E7|The Associated En...|https://www.linke...|\n",
      "|3996698257|        NULL|          MateroSoft|                NULL|\n",
      "|3994966442|      3848.0|               MITRE|https://www.linke...|\n",
      "|3993289649|     14378.0|                 KfW|https://www.linke...|\n",
      "|3983522810|   1826179.0|    piazza blu² GmbH|https://www.linke...|\n",
      "|3983965465| 6.5732715E7|              AXULUS|https://www.linke...|\n",
      "|3987757743| 8.6691134E7|   Intega Consulting|https://www.linke...|\n",
      "|3995657983| 1.4768268E7|               Alium|https://www.linke...|\n",
      "|3990388957|1.00806711E8|       Skalbach GmbH|https://www.linke...|\n",
      "|3966886299|    560062.0|CHECK24 Vergleich...|https://www.linke...|\n",
      "+----------+------------+--------------------+--------------------+\n",
      "only showing top 20 rows\n",
      "\n"
     ]
    }
   ],
   "source": [
    "df_company=df.select(\n",
    "    col('id'),\n",
    "    col('`company.id`').alias('company_id'),\n",
    "    col('`company.name`').alias('company_name'),\n",
    "    col('`company.url`').alias(\"company_url\")\n",
    ")\n",
    "df_company=df_company.withColumn('id',col('id').cast('long'))\n",
    "df_company.show()\n"
   ]
  },
  {
   "cell_type": "code",
   "execution_count": null,
   "metadata": {
    "application/vnd.databricks.v1+cell": {
     "cellMetadata": {
      "byteLimit": 2048000,
      "rowLimit": 10000
     },
     "inputWidgets": {},
     "nuid": "c27e92c8-7470-4aff-a9ec-bd37f269aeb6",
     "showTitle": false,
     "title": ""
    }
   },
   "outputs": [
    {
     "data": {
      "text/html": [
       "<style scoped>\n",
       "  .table-result-container {\n",
       "    max-height: 300px;\n",
       "    overflow: auto;\n",
       "  }\n",
       "  table, th, td {\n",
       "    border: 1px solid black;\n",
       "    border-collapse: collapse;\n",
       "  }\n",
       "  th, td {\n",
       "    padding: 5px;\n",
       "  }\n",
       "  th {\n",
       "    text-align: left;\n",
       "  }\n",
       "</style><div class='table-result-container'><table class='table-result'><thead style='background-color: white'><tr><th>id</th><th>title</th><th>jpb_url</th><th>type</th><th>job_location</th></tr></thead><tbody><tr><td>3990999045</td><td>Software Engineer</td><td>https://www.linkedin.com/jobs/view/3990999045</td><td>Full-time</td><td>Berlin, Germany (Hybrid)</td></tr><tr><td>3850652988</td><td>IT System Engineer / Netzwerkadministration (m/w/d)</td><td>https://www.linkedin.com/jobs/view/3850652988</td><td>Full-time</td><td>Unterföhring, Bavaria, Germany (On-site)</td></tr><tr><td>3784329235</td><td>Full Stack Engineer</td><td>https://www.linkedin.com/jobs/view/3784329235</td><td>Full-time</td><td>Düsseldorf, North Rhine-Westphalia, Germany (Hybrid)</td></tr><tr><td>3984088810</td><td>Senior Security Infrastructure Engineer (m/f/d)</td><td>https://www.linkedin.com/jobs/view/3984088810</td><td>Full-time</td><td>Düsseldorf, North Rhine-Westphalia, Germany (On-site)</td></tr><tr><td>3982726787</td><td>Fullstack Developer</td><td>https://www.linkedin.com/jobs/view/3982726787</td><td>Contract</td><td>Berlin, Germany (Hybrid)</td></tr><tr><td>3986539089</td><td>Senior Devops Engineer</td><td>https://www.linkedin.com/jobs/view/3986539089</td><td>Full-time</td><td>Berlin, Germany (On-site)</td></tr><tr><td>3994591494</td><td>Softwareingenieur (m/w/d)</td><td>https://www.linkedin.com/jobs/view/3994591494</td><td>Full-time</td><td>Pirmasens, Rhineland-Palatinate, Germany (Hybrid)</td></tr><tr><td>568136544</td><td>Fullstack-Entwickler:in (React, Kotlin/Java)</td><td>https://www.linkedin.com/jobs/view/568136544</td><td>Full-time</td><td>Bielefeld, North Rhine-Westphalia, Germany (On-site)</td></tr><tr><td>3986516681</td><td>DevOps Engineer</td><td>https://www.linkedin.com/jobs/view/3986516681</td><td>Full-time</td><td>Kreuzwertheim, Bavaria, Germany (Hybrid)</td></tr><tr><td>3984893318</td><td>R-10052989 Senior Software Application Engineer – Ethernet Products (f/m/d)</td><td>https://www.linkedin.com/jobs/view/3984893318</td><td>Full-time</td><td>Hamburg, Germany (Hybrid)</td></tr><tr><td>3996284212</td><td>Senior Software Entwickler:in mit Karriereambitionen - jetzt mit uns voll durchstarten!</td><td>https://www.linkedin.com/jobs/view/3996284212</td><td>Full-time</td><td>Germany (Remote)</td></tr><tr><td>3996698257</td><td>DevOps Engineer (m/f/d)-Onsite/Hybrid/Remote (in Germany)</td><td>https://www.linkedin.com/jobs/view/3996698257</td><td>Full-time</td><td>Berlin, Germany (Remote)</td></tr><tr><td>3994966442</td><td>Lead Systems Engineer</td><td>https://www.linkedin.com/jobs/view/3994966442</td><td>Full-time</td><td>Ramstein-Miesenbach, Rhineland-Palatinate, Germany</td></tr><tr><td>3993289649</td><td>(Senior) DevOps Platform Engineer (w/m/d) - Ansible Automation</td><td>https://www.linkedin.com/jobs/view/3993289649</td><td>Full-time</td><td>Berlin, Berlin, Germany (On-site)</td></tr><tr><td>3983522810</td><td>Java Backend Entwickler</td><td>https://www.linkedin.com/jobs/view/3983522810</td><td>Full-time</td><td>Cologne Bonn Region (Hybrid)</td></tr><tr><td>3983965465</td><td>Projektmanager AI & Data Science</td><td>https://www.linkedin.com/jobs/view/3983965465</td><td>Full-time</td><td>Munich, Bavaria, Germany (Hybrid)</td></tr><tr><td>3987757743</td><td>Software Engineer</td><td>https://www.linkedin.com/jobs/view/3987757743</td><td>Full-time</td><td>Kreuzwertheim, Bavaria, Germany (Hybrid)</td></tr><tr><td>3995657983</td><td>DevOps Engineer</td><td>https://www.linkedin.com/jobs/view/3995657983</td><td>Full-time</td><td>Berlin, Germany (Hybrid)</td></tr><tr><td>3990388957</td><td>Senior Software Entwickler (m/w/d)</td><td>https://www.linkedin.com/jobs/view/3990388957</td><td>Full-time</td><td>Bietigheim, Baden-Württemberg, Germany (Hybrid)</td></tr><tr><td>3966886299</td><td>Praktikum/Abschlussarbeit in der Softwareentwicklung</td><td>https://www.linkedin.com/jobs/view/3966886299</td><td>Full-time</td><td>Münster, North Rhine-Westphalia, Germany (Hybrid)</td></tr><tr><td>3993922657</td><td>Senior Rust Engineer</td><td>https://www.linkedin.com/jobs/view/3993922657</td><td>Full-time</td><td>Berlin, Germany (On-site)</td></tr><tr><td>3992456486</td><td>C++ Internship (f/m/d) with relocation to Berlin</td><td>https://www.linkedin.com/jobs/view/3992456486</td><td>Internship</td><td>Hamburg, Germany (On-site)</td></tr><tr><td>3943114149</td><td>R-10048501 Senior Principal AI Engineer (f/m/d)</td><td>https://www.linkedin.com/jobs/view/3943114149</td><td>Full-time</td><td>Munich, Bavaria, Germany (Hybrid)</td></tr><tr><td>3984324368</td><td>Junior IT Engineer</td><td>https://www.linkedin.com/jobs/view/3984324368</td><td>Contract</td><td>Leverkusen, North Rhine-Westphalia, Germany (On-site)</td></tr><tr><td>3985535482</td><td>Data Engineer</td><td>https://www.linkedin.com/jobs/view/3985535482</td><td>Full-time</td><td>Munich, Bavaria, Germany (On-site)</td></tr><tr><td>3999460152</td><td>PHP-Entwickler</td><td>https://www.linkedin.com/jobs/view/3999460152</td><td>Full-time</td><td>Karlsfeld, Bavaria, Germany (Hybrid)</td></tr><tr><td>3999463102</td><td>Full Stack Developer (m/w/d)</td><td>https://www.linkedin.com/jobs/view/3999463102</td><td>Full-time</td><td>Potsdam, Brandenburg, Germany (Hybrid)</td></tr><tr><td>3993912322</td><td>Engineer Advanced Technology (M/F/D)</td><td>https://www.linkedin.com/jobs/view/3993912322</td><td>Full-time</td><td>Munich, Bavaria, Germany (On-site)</td></tr><tr><td>3996276931</td><td>Senior Backend Engineer (Node.JS, Remote, f/m/d)</td><td>https://www.linkedin.com/jobs/view/3996276931</td><td>Full-time</td><td>Germany (Remote)</td></tr><tr><td>3999746576</td><td>Working Student: Platform Engineering (f/m/div)</td><td>https://www.linkedin.com/jobs/view/3999746576</td><td>Part-time</td><td>Munich, Bavaria, Germany (Hybrid)</td></tr><tr><td>3996274985</td><td>Senior QA Engineer (Node.JS, Remote, m/d/f)</td><td>https://www.linkedin.com/jobs/view/3996274985</td><td>Full-time</td><td>Germany (Remote)</td></tr><tr><td>3999705334</td><td>Software Engineer Java (m/w/d)</td><td>https://www.linkedin.com/jobs/view/3999705334</td><td>Full-time</td><td>Ludwigsburg, Baden-Württemberg, Germany (Hybrid)</td></tr><tr><td>3997245159</td><td>Senior System Engineer</td><td>https://www.linkedin.com/jobs/view/3997245159</td><td>Full-time</td><td>Baden-Württemberg, Germany (Hybrid)</td></tr><tr><td>3985653916</td><td>Full Stack Engineer</td><td>https://www.linkedin.com/jobs/view/3985653916</td><td>Full-time</td><td>Germany (Remote)</td></tr><tr><td>3989145759</td><td>Fullstack-Anwendungsentwickler/Developer (m/w/d) mit Homeoffice-Option</td><td>https://www.linkedin.com/jobs/view/3989145759</td><td>Full-time</td><td>Aachen, North Rhine-Westphalia, Germany (Hybrid)</td></tr><tr><td>4001351263</td><td>Senior Software Engineer (m/w/d) – iOS (Swift)</td><td>https://www.linkedin.com/jobs/view/4001351263</td><td>Full-time</td><td>Hannover, Lower Saxony, Germany (Hybrid)</td></tr><tr><td>3988563570</td><td>Senior Software Engineer</td><td>https://www.linkedin.com/jobs/view/3988563570</td><td>Full-time</td><td>Berlin, Germany (Hybrid)</td></tr><tr><td>3970261772</td><td>Senior DevOps Engineer</td><td>https://www.linkedin.com/jobs/view/3970261772</td><td>Full-time</td><td>Berlin, Berlin, Germany (On-site)</td></tr><tr><td>3992400241</td><td>Senior Embedded / IoT Systems Engineer</td><td>https://www.linkedin.com/jobs/view/3992400241</td><td>Full-time</td><td>Munich, Bavaria, Germany (Hybrid)</td></tr><tr><td>3994559342</td><td>Requirements Engineer (m/w/d)</td><td>https://www.linkedin.com/jobs/view/3994559342</td><td>Full-time</td><td>Germany (Remote)</td></tr><tr><td>3877273184</td><td>2024 Software Development Engineer Intern - Embedded Development (m/w/d)</td><td>https://www.linkedin.com/jobs/view/3877273184</td><td>Full-time</td><td>Dresden, Saxony, Germany</td></tr><tr><td>3952200608</td><td>R-10051630 Principal AI Engineer (f/m/d)</td><td>https://www.linkedin.com/jobs/view/3952200608</td><td>Full-time</td><td>Munich, Bavaria, Germany (Hybrid)</td></tr><tr><td>3997348779</td><td>Working Student: Full Stack Developer (f/m/div)</td><td>https://www.linkedin.com/jobs/view/3997348779</td><td>Part-time</td><td>Munich, Bavaria, Germany (Hybrid)</td></tr><tr><td>3977755949</td><td>Embedded Engineer</td><td>https://www.linkedin.com/jobs/view/3977755949</td><td>Full-time</td><td>Karlsruhe, Baden-Württemberg, Germany (On-site)</td></tr><tr><td>3982170947</td><td>Software Engineer</td><td>https://www.linkedin.com/jobs/view/3982170947</td><td>Full-time</td><td>Halle, Saxony-Anhalt, Germany (On-site)</td></tr><tr><td>3986501248</td><td>Data/Software Engineer (f/m/d)</td><td>https://www.linkedin.com/jobs/view/3986501248</td><td>Full-time</td><td>Frankfurt am Main, Hesse, Germany (Hybrid)</td></tr><tr><td>3966455358</td><td>Senior Web Entwickler - Ruby on Rails (m/w/d)</td><td>https://www.linkedin.com/jobs/view/3966455358</td><td>Full-time</td><td>Germany (Remote)</td></tr><tr><td>3980979022</td><td>DevOps Engineer</td><td>https://www.linkedin.com/jobs/view/3980979022</td><td>Full-time</td><td>Berlin, Germany (Hybrid)</td></tr><tr><td>3997758540</td><td>Data Engineer</td><td>https://www.linkedin.com/jobs/view/3997758540</td><td>Full-time</td><td>Berlin, Germany (On-site)</td></tr><tr><td>3968643098</td><td>Working student car body development (f/m/x)</td><td>https://www.linkedin.com/jobs/view/3968643098</td><td>Internship</td><td>Munich, Bavaria, Germany</td></tr></tbody></table></div>"
      ]
     },
     "metadata": {
      "application/vnd.databricks.v1+output": {
       "addedWidgets": {},
       "aggData": [],
       "aggError": "",
       "aggOverflow": false,
       "aggSchema": [],
       "aggSeriesLimitReached": false,
       "aggType": "",
       "arguments": {},
       "columnCustomDisplayInfos": {},
       "data": [
        [
         3990999045,
         "Software Engineer",
         "https://www.linkedin.com/jobs/view/3990999045",
         "Full-time",
         "Berlin, Germany (Hybrid)"
        ],
        [
         3850652988,
         "IT System Engineer / Netzwerkadministration (m/w/d)",
         "https://www.linkedin.com/jobs/view/3850652988",
         "Full-time",
         "Unterföhring, Bavaria, Germany (On-site)"
        ],
        [
         3784329235,
         "Full Stack Engineer",
         "https://www.linkedin.com/jobs/view/3784329235",
         "Full-time",
         "Düsseldorf, North Rhine-Westphalia, Germany (Hybrid)"
        ],
        [
         3984088810,
         "Senior Security Infrastructure Engineer (m/f/d)",
         "https://www.linkedin.com/jobs/view/3984088810",
         "Full-time",
         "Düsseldorf, North Rhine-Westphalia, Germany (On-site)"
        ],
        [
         3982726787,
         "Fullstack Developer",
         "https://www.linkedin.com/jobs/view/3982726787",
         "Contract",
         "Berlin, Germany (Hybrid)"
        ],
        [
         3986539089,
         "Senior Devops Engineer",
         "https://www.linkedin.com/jobs/view/3986539089",
         "Full-time",
         "Berlin, Germany (On-site)"
        ],
        [
         3994591494,
         "Softwareingenieur (m/w/d)",
         "https://www.linkedin.com/jobs/view/3994591494",
         "Full-time",
         "Pirmasens, Rhineland-Palatinate, Germany (Hybrid)"
        ],
        [
         568136544,
         "Fullstack-Entwickler:in (React, Kotlin/Java)",
         "https://www.linkedin.com/jobs/view/568136544",
         "Full-time",
         "Bielefeld, North Rhine-Westphalia, Germany (On-site)"
        ],
        [
         3986516681,
         "DevOps Engineer",
         "https://www.linkedin.com/jobs/view/3986516681",
         "Full-time",
         "Kreuzwertheim, Bavaria, Germany (Hybrid)"
        ],
        [
         3984893318,
         "R-10052989 Senior Software Application Engineer – Ethernet Products (f/m/d)",
         "https://www.linkedin.com/jobs/view/3984893318",
         "Full-time",
         "Hamburg, Germany (Hybrid)"
        ],
        [
         3996284212,
         "Senior Software Entwickler:in mit Karriereambitionen - jetzt mit uns voll durchstarten!",
         "https://www.linkedin.com/jobs/view/3996284212",
         "Full-time",
         "Germany (Remote)"
        ],
        [
         3996698257,
         "DevOps Engineer (m/f/d)-Onsite/Hybrid/Remote (in Germany)",
         "https://www.linkedin.com/jobs/view/3996698257",
         "Full-time",
         "Berlin, Germany (Remote)"
        ],
        [
         3994966442,
         "Lead Systems Engineer",
         "https://www.linkedin.com/jobs/view/3994966442",
         "Full-time",
         "Ramstein-Miesenbach, Rhineland-Palatinate, Germany"
        ],
        [
         3993289649,
         "(Senior) DevOps Platform Engineer (w/m/d) - Ansible Automation",
         "https://www.linkedin.com/jobs/view/3993289649",
         "Full-time",
         "Berlin, Berlin, Germany (On-site)"
        ],
        [
         3983522810,
         "Java Backend Entwickler",
         "https://www.linkedin.com/jobs/view/3983522810",
         "Full-time",
         "Cologne Bonn Region (Hybrid)"
        ],
        [
         3983965465,
         "Projektmanager AI & Data Science",
         "https://www.linkedin.com/jobs/view/3983965465",
         "Full-time",
         "Munich, Bavaria, Germany (Hybrid)"
        ],
        [
         3987757743,
         "Software Engineer",
         "https://www.linkedin.com/jobs/view/3987757743",
         "Full-time",
         "Kreuzwertheim, Bavaria, Germany (Hybrid)"
        ],
        [
         3995657983,
         "DevOps Engineer",
         "https://www.linkedin.com/jobs/view/3995657983",
         "Full-time",
         "Berlin, Germany (Hybrid)"
        ],
        [
         3990388957,
         "Senior Software Entwickler (m/w/d)",
         "https://www.linkedin.com/jobs/view/3990388957",
         "Full-time",
         "Bietigheim, Baden-Württemberg, Germany (Hybrid)"
        ],
        [
         3966886299,
         "Praktikum/Abschlussarbeit in der Softwareentwicklung",
         "https://www.linkedin.com/jobs/view/3966886299",
         "Full-time",
         "Münster, North Rhine-Westphalia, Germany (Hybrid)"
        ],
        [
         3993922657,
         "Senior Rust Engineer",
         "https://www.linkedin.com/jobs/view/3993922657",
         "Full-time",
         "Berlin, Germany (On-site)"
        ],
        [
         3992456486,
         "C++ Internship (f/m/d) with relocation to Berlin",
         "https://www.linkedin.com/jobs/view/3992456486",
         "Internship",
         "Hamburg, Germany (On-site)"
        ],
        [
         3943114149,
         "R-10048501 Senior Principal AI Engineer (f/m/d)",
         "https://www.linkedin.com/jobs/view/3943114149",
         "Full-time",
         "Munich, Bavaria, Germany (Hybrid)"
        ],
        [
         3984324368,
         "Junior IT Engineer",
         "https://www.linkedin.com/jobs/view/3984324368",
         "Contract",
         "Leverkusen, North Rhine-Westphalia, Germany (On-site)"
        ],
        [
         3985535482,
         "Data Engineer",
         "https://www.linkedin.com/jobs/view/3985535482",
         "Full-time",
         "Munich, Bavaria, Germany (On-site)"
        ],
        [
         3999460152,
         "PHP-Entwickler",
         "https://www.linkedin.com/jobs/view/3999460152",
         "Full-time",
         "Karlsfeld, Bavaria, Germany (Hybrid)"
        ],
        [
         3999463102,
         "Full Stack Developer (m/w/d)",
         "https://www.linkedin.com/jobs/view/3999463102",
         "Full-time",
         "Potsdam, Brandenburg, Germany (Hybrid)"
        ],
        [
         3993912322,
         "Engineer Advanced Technology (M/F/D)",
         "https://www.linkedin.com/jobs/view/3993912322",
         "Full-time",
         "Munich, Bavaria, Germany (On-site)"
        ],
        [
         3996276931,
         "Senior Backend Engineer (Node.JS, Remote, f/m/d)",
         "https://www.linkedin.com/jobs/view/3996276931",
         "Full-time",
         "Germany (Remote)"
        ],
        [
         3999746576,
         "Working Student: Platform Engineering (f/m/div)",
         "https://www.linkedin.com/jobs/view/3999746576",
         "Part-time",
         "Munich, Bavaria, Germany (Hybrid)"
        ],
        [
         3996274985,
         "Senior QA Engineer (Node.JS, Remote, m/d/f)",
         "https://www.linkedin.com/jobs/view/3996274985",
         "Full-time",
         "Germany (Remote)"
        ],
        [
         3999705334,
         "Software Engineer Java (m/w/d)",
         "https://www.linkedin.com/jobs/view/3999705334",
         "Full-time",
         "Ludwigsburg, Baden-Württemberg, Germany (Hybrid)"
        ],
        [
         3997245159,
         "Senior System Engineer",
         "https://www.linkedin.com/jobs/view/3997245159",
         "Full-time",
         "Baden-Württemberg, Germany (Hybrid)"
        ],
        [
         3985653916,
         "Full Stack Engineer",
         "https://www.linkedin.com/jobs/view/3985653916",
         "Full-time",
         "Germany (Remote)"
        ],
        [
         3989145759,
         "Fullstack-Anwendungsentwickler/Developer (m/w/d) mit Homeoffice-Option",
         "https://www.linkedin.com/jobs/view/3989145759",
         "Full-time",
         "Aachen, North Rhine-Westphalia, Germany (Hybrid)"
        ],
        [
         4001351263,
         "Senior Software Engineer (m/w/d) – iOS (Swift)",
         "https://www.linkedin.com/jobs/view/4001351263",
         "Full-time",
         "Hannover, Lower Saxony, Germany (Hybrid)"
        ],
        [
         3988563570,
         "Senior Software Engineer",
         "https://www.linkedin.com/jobs/view/3988563570",
         "Full-time",
         "Berlin, Germany (Hybrid)"
        ],
        [
         3970261772,
         "Senior DevOps Engineer",
         "https://www.linkedin.com/jobs/view/3970261772",
         "Full-time",
         "Berlin, Berlin, Germany (On-site)"
        ],
        [
         3992400241,
         "Senior Embedded / IoT Systems Engineer",
         "https://www.linkedin.com/jobs/view/3992400241",
         "Full-time",
         "Munich, Bavaria, Germany (Hybrid)"
        ],
        [
         3994559342,
         "Requirements Engineer (m/w/d)",
         "https://www.linkedin.com/jobs/view/3994559342",
         "Full-time",
         "Germany (Remote)"
        ],
        [
         3877273184,
         "2024 Software Development Engineer Intern - Embedded Development (m/w/d)",
         "https://www.linkedin.com/jobs/view/3877273184",
         "Full-time",
         "Dresden, Saxony, Germany"
        ],
        [
         3952200608,
         "R-10051630 Principal AI Engineer (f/m/d)",
         "https://www.linkedin.com/jobs/view/3952200608",
         "Full-time",
         "Munich, Bavaria, Germany (Hybrid)"
        ],
        [
         3997348779,
         "Working Student: Full Stack Developer (f/m/div)",
         "https://www.linkedin.com/jobs/view/3997348779",
         "Part-time",
         "Munich, Bavaria, Germany (Hybrid)"
        ],
        [
         3977755949,
         "Embedded Engineer",
         "https://www.linkedin.com/jobs/view/3977755949",
         "Full-time",
         "Karlsruhe, Baden-Württemberg, Germany (On-site)"
        ],
        [
         3982170947,
         "Software Engineer",
         "https://www.linkedin.com/jobs/view/3982170947",
         "Full-time",
         "Halle, Saxony-Anhalt, Germany (On-site)"
        ],
        [
         3986501248,
         "Data/Software Engineer (f/m/d)",
         "https://www.linkedin.com/jobs/view/3986501248",
         "Full-time",
         "Frankfurt am Main, Hesse, Germany (Hybrid)"
        ],
        [
         3966455358,
         "Senior Web Entwickler - Ruby on Rails (m/w/d)",
         "https://www.linkedin.com/jobs/view/3966455358",
         "Full-time",
         "Germany (Remote)"
        ],
        [
         3980979022,
         "DevOps Engineer",
         "https://www.linkedin.com/jobs/view/3980979022",
         "Full-time",
         "Berlin, Germany (Hybrid)"
        ],
        [
         3997758540,
         "Data Engineer",
         "https://www.linkedin.com/jobs/view/3997758540",
         "Full-time",
         "Berlin, Germany (On-site)"
        ],
        [
         3968643098,
         "Working student car body development (f/m/x)",
         "https://www.linkedin.com/jobs/view/3968643098",
         "Internship",
         "Munich, Bavaria, Germany"
        ]
       ],
       "datasetInfos": [],
       "dbfsResultPath": null,
       "isJsonSchema": true,
       "metadata": {},
       "overflow": false,
       "plotOptions": {
        "customPlotOptions": {},
        "displayType": "table",
        "pivotAggregation": null,
        "pivotColumns": null,
        "xColumns": null,
        "yColumns": null
       },
       "removedWidgets": [],
       "schema": [
        {
         "metadata": "{}",
         "name": "id",
         "type": "\"long\""
        },
        {
         "metadata": "{}",
         "name": "title",
         "type": "\"string\""
        },
        {
         "metadata": "{}",
         "name": "jpb_url",
         "type": "\"string\""
        },
        {
         "metadata": "{}",
         "name": "type",
         "type": "\"string\""
        },
        {
         "metadata": "{}",
         "name": "job_location",
         "type": "\"string\""
        }
       ],
       "type": "table"
      }
     },
     "output_type": "display_data"
    }
   ],
   "source": [
    "df_job=df.select(\n",
    "    col('id'),\n",
    "    col('title'),\n",
    "    col('url').alias('jpb_url'),\n",
    "    col('type'),\n",
    "    col('location').alias('job_location')\n",
    ")\n",
    "df_job=df_job.withColumn('id',col('id').cast('long'))\n",
    "display(df_job)"
   ]
  },
  {
   "cell_type": "code",
   "execution_count": null,
   "metadata": {
    "application/vnd.databricks.v1+cell": {
     "cellMetadata": {
      "byteLimit": 2048000,
      "rowLimit": 10000
     },
     "inputWidgets": {},
     "nuid": "82265635-7326-441f-8327-4a618acd43e6",
     "showTitle": false,
     "title": ""
    }
   },
   "outputs": [
    {
     "name": "stdout",
     "output_type": "stream",
     "text": [
      "+----------+----------+----+-----+---+-----------+\n",
      "|        id|      date|year|month|day|day_of_week|\n",
      "+----------+----------+----+-----+---+-----------+\n",
      "|3990999045|2024-08-02|2024|  Aug| 02|     Friday|\n",
      "|3850652988|2024-08-02|2024|  Aug| 02|     Friday|\n",
      "|3784329235|2024-08-09|2024|  Aug| 09|     Friday|\n",
      "|3984088810|2024-08-02|2024|  Aug| 02|     Friday|\n",
      "|3982726787|2024-07-26|2024|  Jul| 26|     Friday|\n",
      "|3986539089|2024-08-02|2024|  Aug| 02|     Friday|\n",
      "|3994591494|2024-08-09|2024|  Aug| 09|     Friday|\n",
      "| 568136544|2024-08-13|2024|  Aug| 13|    Tuesday|\n",
      "|3986516681|2024-08-02|2024|  Aug| 02|     Friday|\n",
      "|3984893318|2024-08-02|2024|  Aug| 02|     Friday|\n",
      "|3996284212|2024-08-09|2024|  Aug| 09|     Friday|\n",
      "|3996698257|2024-08-09|2024|  Aug| 09|     Friday|\n",
      "|3994966442|2024-08-09|2024|  Aug| 09|     Friday|\n",
      "|3993289649|2024-08-09|2024|  Aug| 09|     Friday|\n",
      "|3983522810|2024-07-26|2024|  Jul| 26|     Friday|\n",
      "|3983965465|2024-07-26|2024|  Jul| 26|     Friday|\n",
      "|3987757743|2024-08-02|2024|  Aug| 02|     Friday|\n",
      "|3995657983|2024-08-09|2024|  Aug| 09|     Friday|\n",
      "|3990388957|2024-08-02|2024|  Aug| 02|     Friday|\n",
      "|3966886299|2024-08-02|2024|  Aug| 02|     Friday|\n",
      "+----------+----------+----+-----+---+-----------+\n",
      "only showing top 20 rows\n",
      "\n"
     ]
    }
   ],
   "source": [
    "\n",
    "def time_ago_to_days(time_ago_str):\n",
    "    if \"day\" in time_ago_str:\n",
    "        return int(time_ago_str.split()[0])\n",
    "    elif \"week\" in time_ago_str:\n",
    "        return int(time_ago_str.split()[0]) * 7\n",
    "    elif \"hour\" in time_ago_str:\n",
    "        return 0  # If it's hours ago, it counts as today\n",
    "    elif \"month\" in time_ago_str:\n",
    "        return int(time_ago_str.split()[0]) * 30  # Approximate to 30 days\n",
    "    elif \"year\" in time_ago_str:\n",
    "        return int(time_ago_str.split()[0]) * 365  # Approximate to 365 days\n",
    "    else:\n",
    "        return None \n",
    "\n",
    "\n",
    "df_date=df.select(col('id'),col('postDate'))\n",
    "df_date=df_date.withColumn('id',col('id').cast('long'))\n",
    "                      \n",
    "time_ago_udf = udf(time_ago_to_days, IntegerType())    \n",
    "df_date = df_date.withColumn(\"date\", date_sub(current_date(), time_ago_udf(col(\"postDate\"))))\n",
    "\n",
    "df_date = df_date.withColumn('year', date_format(col(\"date\"), \"yyyy\")) \\\n",
    "                 .withColumn(\"month\", date_format(col(\"date\"), \"MM\")) \\\n",
    "                 .withColumn(\"day\", date_format(col(\"date\"), \"dd\")) \\\n",
    "                 .withColumn(\"day_of_week\", date_format(col(\"date\"), \"EEEE\"))\n",
    "\n",
    "df_date=df_date.select('id','date','year','month','day','day_of_week')\n",
    "\n",
    "df_date = df_date.withColumn(\"month\", \n",
    "                             when(col(\"month\") == 1, \"Jan\")\n",
    "                             .when(col(\"month\") == 2, \"Feb\")\n",
    "                             .when(col(\"month\") == 3, \"Mar\")\n",
    "                             .when(col(\"month\") == 4, \"Apr\")\n",
    "                             .when(col(\"month\") == 5, \"May\")\n",
    "                             .when(col(\"month\") == 6, \"Jun\")\n",
    "                             .when(col(\"month\") == 7, \"Jul\")\n",
    "                             .when(col(\"month\") == 8, \"Aug\")\n",
    "                             .when(col(\"month\") == 9, \"Sep\")\n",
    "                             .when(col(\"month\") == 10, \"Oct\")\n",
    "                             .when(col(\"month\") == 11, \"Nov\")\n",
    "                             .when(col(\"month\") == 12, \"Dec\")\n",
    "                             .otherwise(\"Unknown\"))\n",
    "df_date.show()"
   ]
  },
  {
   "cell_type": "code",
   "execution_count": null,
   "metadata": {
    "application/vnd.databricks.v1+cell": {
     "cellMetadata": {
      "byteLimit": 2048000,
      "rowLimit": 10000
     },
     "inputWidgets": {},
     "nuid": "f4df11ca-7504-4d44-8eea-5098cdfb2d11",
     "showTitle": false,
     "title": ""
    }
   },
   "outputs": [
    {
     "name": "stdout",
     "output_type": "stream",
     "text": [
      "df_company data successfully written to snowflake\n",
      "df_job data successfully written to snowflake\n",
      "df_date data successfully written to snowflake\n",
      "df_job_postings data successfully written to snowflake\n"
     ]
    }
   ],
   "source": [
    "try :\n",
    "    df_company.write \\\n",
    "    .format('snowflake') \\\n",
    "    .options(**options) \\\n",
    "    .option('dbtable','linkedin_job_stg_schema.stg_dim_company') \\\n",
    "    .mode('append') \\\n",
    "    .save()\n",
    "    print(\"df_company data successfully written to snowflake\")\n",
    "except Exception as e:\n",
    "    print(\"there is a error in df_company\",e)\n",
    "\n",
    "\n",
    "\n",
    "try :\n",
    "    df_job.write \\\n",
    "    .format('snowflake') \\\n",
    "    .options(**options) \\\n",
    "    .option('dbtable','linkedin_job_stg_schema.stg_dim_job') \\\n",
    "    .mode('append') \\\n",
    "    .save()\n",
    "    print(\"df_job data successfully written to snowflake\")\n",
    "except Exception as e:\n",
    "    print(\"there is a error in df_job\",e)\n",
    "\n",
    "\n",
    "\n",
    "try :\n",
    "    df_date.write \\\n",
    "    .format('snowflake') \\\n",
    "    .options(**options) \\\n",
    "    .option('dbtable','linkedin_job_stg_schema.stg_dim_date') \\\n",
    "    .mode('append') \\\n",
    "    .save()\n",
    "    print(\"df_date data successfully written to snowflake\")\n",
    "except Exception as e:\n",
    "    print(\"there is a error in df_date\",e)\n",
    "\n",
    "\n",
    "\n",
    "\n",
    "try :\n",
    "    df_job_postings.write \\\n",
    "    .format('snowflake') \\\n",
    "    .options(**options) \\\n",
    "    .option('dbtable','linkedin_job_stg_schema.stg_fact_post') \\\n",
    "    .mode('append') \\\n",
    "    .save()\n",
    "    print(\"df_job_postings data successfully written to snowflake\")\n",
    "except Exception as e:\n",
    "    print(\"there is a error in df_job_postings\",e)"
   ]
  }
 ],
 "metadata": {
  "application/vnd.databricks.v1+notebook": {
   "dashboards": [],
   "environmentMetadata": null,
   "language": "python",
   "notebookMetadata": {
    "pythonIndentUnit": 4
   },
   "notebookName": "linkedin_jobPosting_analysis",
   "widgets": {}
  },
  "language_info": {
   "name": "python"
  }
 },
 "nbformat": 4,
 "nbformat_minor": 0
}
